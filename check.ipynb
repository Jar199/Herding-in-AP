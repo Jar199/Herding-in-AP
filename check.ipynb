{
 "cells": [
  {
   "cell_type": "code",
   "execution_count": 5,
   "metadata": {},
   "outputs": [],
   "source": [
    "import pandas as pd\n",
    "import numpy as np\n",
    "import os"
   ]
  },
  {
   "cell_type": "code",
   "execution_count": 3,
   "metadata": {},
   "outputs": [],
   "source": [
    "df = pd.read_csv('./raw_data_month/201601_raw.csv', encoding='ms949')"
   ]
  },
  {
   "cell_type": "code",
   "execution_count": 6,
   "metadata": {},
   "outputs": [
    {
     "name": "stdout",
     "output_type": "stream",
     "text": [
      "115301070004810000\n"
     ]
    }
   ],
   "source": [
    "print((df['건물명코드'][0]))"
   ]
  },
  {
   "cell_type": "code",
   "execution_count": 7,
   "metadata": {},
   "outputs": [
    {
     "name": "stdout",
     "output_type": "stream",
     "text": [
      "11530_10700_0481_0000\n"
     ]
    }
   ],
   "source": [
    "print(df['건물명코드'][0][:5] + '_' + df['건물명코드'][0][5:10] + '_' + df['건물명코드'][0][10:14] + '_' + df['건물명코드'][0][14:])"
   ]
  },
  {
   "cell_type": "code",
   "execution_count": 8,
   "metadata": {},
   "outputs": [],
   "source": [
    "building_code = []\n",
    "for i in range(len(df)):\n",
    "    building_code.append(df['건물명코드'][i][:5] + '_' + df['건물명코드'][i][5:10] + '_' + df['건물명코드'][i][10:14] + '_' + df['건물명코드'][i][14:])\n",
    "df['building_code'] = building_code"
   ]
  },
  {
   "cell_type": "code",
   "execution_count": 9,
   "metadata": {},
   "outputs": [
    {
     "data": {
      "text/html": [
       "<div>\n",
       "<style scoped>\n",
       "    .dataframe tbody tr th:only-of-type {\n",
       "        vertical-align: middle;\n",
       "    }\n",
       "\n",
       "    .dataframe tbody tr th {\n",
       "        vertical-align: top;\n",
       "    }\n",
       "\n",
       "    .dataframe thead th {\n",
       "        text-align: right;\n",
       "    }\n",
       "</style>\n",
       "<table border=\"1\" class=\"dataframe\">\n",
       "  <thead>\n",
       "    <tr style=\"text-align: right;\">\n",
       "      <th></th>\n",
       "      <th>계약일</th>\n",
       "      <th>자치구명</th>\n",
       "      <th>법정동명</th>\n",
       "      <th>지번구분명</th>\n",
       "      <th>건물명</th>\n",
       "      <th>층</th>\n",
       "      <th>권리구분</th>\n",
       "      <th>취소일</th>\n",
       "      <th>건축년도</th>\n",
       "      <th>신고구분</th>\n",
       "      <th>면적당금액(만원)</th>\n",
       "      <th>건물명코드</th>\n",
       "      <th>year</th>\n",
       "      <th>month</th>\n",
       "      <th>day</th>\n",
       "      <th>building_code</th>\n",
       "    </tr>\n",
       "  </thead>\n",
       "  <tbody>\n",
       "    <tr>\n",
       "      <th>0</th>\n",
       "      <td>20160131</td>\n",
       "      <td>구로구</td>\n",
       "      <td>개봉동</td>\n",
       "      <td>대지</td>\n",
       "      <td>현대</td>\n",
       "      <td>22.0</td>\n",
       "      <td>NaN</td>\n",
       "      <td>NaN</td>\n",
       "      <td>2001.0</td>\n",
       "      <td>NaN</td>\n",
       "      <td>632.298966</td>\n",
       "      <td>115301070004810000</td>\n",
       "      <td>2016</td>\n",
       "      <td>1</td>\n",
       "      <td>31</td>\n",
       "      <td>11530_10700_0481_0000</td>\n",
       "    </tr>\n",
       "    <tr>\n",
       "      <th>1</th>\n",
       "      <td>20160131</td>\n",
       "      <td>서초구</td>\n",
       "      <td>잠원동</td>\n",
       "      <td>대지</td>\n",
       "      <td>신반포10</td>\n",
       "      <td>6.0</td>\n",
       "      <td>NaN</td>\n",
       "      <td>NaN</td>\n",
       "      <td>1981.0</td>\n",
       "      <td>NaN</td>\n",
       "      <td>1282.620766</td>\n",
       "      <td>116501060000580016</td>\n",
       "      <td>2016</td>\n",
       "      <td>1</td>\n",
       "      <td>31</td>\n",
       "      <td>11650_10600_0058_0016</td>\n",
       "    </tr>\n",
       "    <tr>\n",
       "      <th>2</th>\n",
       "      <td>20160131</td>\n",
       "      <td>성동구</td>\n",
       "      <td>옥수동</td>\n",
       "      <td>대지</td>\n",
       "      <td>옥수 어울림</td>\n",
       "      <td>12.0</td>\n",
       "      <td>NaN</td>\n",
       "      <td>NaN</td>\n",
       "      <td>2011.0</td>\n",
       "      <td>NaN</td>\n",
       "      <td>971.057295</td>\n",
       "      <td>112001130005600000</td>\n",
       "      <td>2016</td>\n",
       "      <td>1</td>\n",
       "      <td>31</td>\n",
       "      <td>11200_11300_0560_0000</td>\n",
       "    </tr>\n",
       "    <tr>\n",
       "      <th>3</th>\n",
       "      <td>20160131</td>\n",
       "      <td>동대문구</td>\n",
       "      <td>청량리동</td>\n",
       "      <td>대지</td>\n",
       "      <td>미주</td>\n",
       "      <td>8.0</td>\n",
       "      <td>NaN</td>\n",
       "      <td>NaN</td>\n",
       "      <td>1978.0</td>\n",
       "      <td>NaN</td>\n",
       "      <td>393.360082</td>\n",
       "      <td>112301070002350001</td>\n",
       "      <td>2016</td>\n",
       "      <td>1</td>\n",
       "      <td>31</td>\n",
       "      <td>11230_10700_0235_0001</td>\n",
       "    </tr>\n",
       "    <tr>\n",
       "      <th>4</th>\n",
       "      <td>20160131</td>\n",
       "      <td>강남구</td>\n",
       "      <td>도곡동</td>\n",
       "      <td>대지</td>\n",
       "      <td>삼성</td>\n",
       "      <td>8.0</td>\n",
       "      <td>NaN</td>\n",
       "      <td>NaN</td>\n",
       "      <td>1994.0</td>\n",
       "      <td>NaN</td>\n",
       "      <td>1249.771939</td>\n",
       "      <td>116801180001610000</td>\n",
       "      <td>2016</td>\n",
       "      <td>1</td>\n",
       "      <td>31</td>\n",
       "      <td>11680_11800_0161_0000</td>\n",
       "    </tr>\n",
       "    <tr>\n",
       "      <th>...</th>\n",
       "      <td>...</td>\n",
       "      <td>...</td>\n",
       "      <td>...</td>\n",
       "      <td>...</td>\n",
       "      <td>...</td>\n",
       "      <td>...</td>\n",
       "      <td>...</td>\n",
       "      <td>...</td>\n",
       "      <td>...</td>\n",
       "      <td>...</td>\n",
       "      <td>...</td>\n",
       "      <td>...</td>\n",
       "      <td>...</td>\n",
       "      <td>...</td>\n",
       "      <td>...</td>\n",
       "      <td>...</td>\n",
       "    </tr>\n",
       "    <tr>\n",
       "      <th>5436</th>\n",
       "      <td>20160101</td>\n",
       "      <td>양천구</td>\n",
       "      <td>목동</td>\n",
       "      <td>대지</td>\n",
       "      <td>목동성원(926-8)</td>\n",
       "      <td>15.0</td>\n",
       "      <td>NaN</td>\n",
       "      <td>NaN</td>\n",
       "      <td>1997.0</td>\n",
       "      <td>NaN</td>\n",
       "      <td>707.964602</td>\n",
       "      <td>114701020009260008</td>\n",
       "      <td>2016</td>\n",
       "      <td>1</td>\n",
       "      <td>1</td>\n",
       "      <td>11470_10200_0926_0008</td>\n",
       "    </tr>\n",
       "    <tr>\n",
       "      <th>5437</th>\n",
       "      <td>20160101</td>\n",
       "      <td>서대문구</td>\n",
       "      <td>홍은동</td>\n",
       "      <td>대지</td>\n",
       "      <td>유원</td>\n",
       "      <td>13.0</td>\n",
       "      <td>NaN</td>\n",
       "      <td>NaN</td>\n",
       "      <td>1987.0</td>\n",
       "      <td>NaN</td>\n",
       "      <td>338.061466</td>\n",
       "      <td>114101180000220000</td>\n",
       "      <td>2016</td>\n",
       "      <td>1</td>\n",
       "      <td>1</td>\n",
       "      <td>11410_11800_0022_0000</td>\n",
       "    </tr>\n",
       "    <tr>\n",
       "      <th>5438</th>\n",
       "      <td>20160101</td>\n",
       "      <td>동작구</td>\n",
       "      <td>사당동</td>\n",
       "      <td>대지</td>\n",
       "      <td>삼익그린뷰</td>\n",
       "      <td>9.0</td>\n",
       "      <td>NaN</td>\n",
       "      <td>NaN</td>\n",
       "      <td>2003.0</td>\n",
       "      <td>NaN</td>\n",
       "      <td>446.672744</td>\n",
       "      <td>115901070011500000</td>\n",
       "      <td>2016</td>\n",
       "      <td>1</td>\n",
       "      <td>1</td>\n",
       "      <td>11590_10700_1150_0000</td>\n",
       "    </tr>\n",
       "    <tr>\n",
       "      <th>5439</th>\n",
       "      <td>20160101</td>\n",
       "      <td>은평구</td>\n",
       "      <td>진관동</td>\n",
       "      <td>대지</td>\n",
       "      <td>은평뉴타운 폭포동(힐스테이트D-10)</td>\n",
       "      <td>3.0</td>\n",
       "      <td>NaN</td>\n",
       "      <td>NaN</td>\n",
       "      <td>2010.0</td>\n",
       "      <td>NaN</td>\n",
       "      <td>548.676503</td>\n",
       "      <td>113801140001320000</td>\n",
       "      <td>2016</td>\n",
       "      <td>1</td>\n",
       "      <td>1</td>\n",
       "      <td>11380_11400_0132_0000</td>\n",
       "    </tr>\n",
       "    <tr>\n",
       "      <th>5440</th>\n",
       "      <td>20160101</td>\n",
       "      <td>은평구</td>\n",
       "      <td>진관동</td>\n",
       "      <td>대지</td>\n",
       "      <td>은평뉴타운 폭포동(힐스테이트D-9)</td>\n",
       "      <td>9.0</td>\n",
       "      <td>NaN</td>\n",
       "      <td>NaN</td>\n",
       "      <td>2010.0</td>\n",
       "      <td>NaN</td>\n",
       "      <td>662.940080</td>\n",
       "      <td>113801140001400000</td>\n",
       "      <td>2016</td>\n",
       "      <td>1</td>\n",
       "      <td>1</td>\n",
       "      <td>11380_11400_0140_0000</td>\n",
       "    </tr>\n",
       "  </tbody>\n",
       "</table>\n",
       "<p>5441 rows × 16 columns</p>\n",
       "</div>"
      ],
      "text/plain": [
       "           계약일  자치구명  법정동명 지번구분명                   건물명     층 권리구분  취소일  \\\n",
       "0     20160131   구로구   개봉동    대지                    현대  22.0  NaN  NaN   \n",
       "1     20160131   서초구   잠원동    대지                 신반포10   6.0  NaN  NaN   \n",
       "2     20160131   성동구   옥수동    대지                옥수 어울림  12.0  NaN  NaN   \n",
       "3     20160131  동대문구  청량리동    대지                    미주   8.0  NaN  NaN   \n",
       "4     20160131   강남구   도곡동    대지                    삼성   8.0  NaN  NaN   \n",
       "...        ...   ...   ...   ...                   ...   ...  ...  ...   \n",
       "5436  20160101   양천구    목동    대지           목동성원(926-8)  15.0  NaN  NaN   \n",
       "5437  20160101  서대문구   홍은동    대지                    유원  13.0  NaN  NaN   \n",
       "5438  20160101   동작구   사당동    대지                 삼익그린뷰   9.0  NaN  NaN   \n",
       "5439  20160101   은평구   진관동    대지  은평뉴타운 폭포동(힐스테이트D-10)   3.0  NaN  NaN   \n",
       "5440  20160101   은평구   진관동    대지   은평뉴타운 폭포동(힐스테이트D-9)   9.0  NaN  NaN   \n",
       "\n",
       "        건축년도  신고구분    면적당금액(만원)               건물명코드  year  month  day  \\\n",
       "0     2001.0   NaN   632.298966  115301070004810000  2016      1   31   \n",
       "1     1981.0   NaN  1282.620766  116501060000580016  2016      1   31   \n",
       "2     2011.0   NaN   971.057295  112001130005600000  2016      1   31   \n",
       "3     1978.0   NaN   393.360082  112301070002350001  2016      1   31   \n",
       "4     1994.0   NaN  1249.771939  116801180001610000  2016      1   31   \n",
       "...      ...   ...          ...                 ...   ...    ...  ...   \n",
       "5436  1997.0   NaN   707.964602  114701020009260008  2016      1    1   \n",
       "5437  1987.0   NaN   338.061466  114101180000220000  2016      1    1   \n",
       "5438  2003.0   NaN   446.672744  115901070011500000  2016      1    1   \n",
       "5439  2010.0   NaN   548.676503  113801140001320000  2016      1    1   \n",
       "5440  2010.0   NaN   662.940080  113801140001400000  2016      1    1   \n",
       "\n",
       "              building_code  \n",
       "0     11530_10700_0481_0000  \n",
       "1     11650_10600_0058_0016  \n",
       "2     11200_11300_0560_0000  \n",
       "3     11230_10700_0235_0001  \n",
       "4     11680_11800_0161_0000  \n",
       "...                     ...  \n",
       "5436  11470_10200_0926_0008  \n",
       "5437  11410_11800_0022_0000  \n",
       "5438  11590_10700_1150_0000  \n",
       "5439  11380_11400_0132_0000  \n",
       "5440  11380_11400_0140_0000  \n",
       "\n",
       "[5441 rows x 16 columns]"
      ]
     },
     "execution_count": 9,
     "metadata": {},
     "output_type": "execute_result"
    }
   ],
   "source": [
    "df"
   ]
  },
  {
   "cell_type": "code",
   "execution_count": 4,
   "metadata": {},
   "outputs": [
    {
     "name": "stdout",
     "output_type": "stream",
     "text": [
      "['201601_raw.csv', '201602_raw.csv', '201603_raw.csv', '201604_raw.csv', '201605_raw.csv', '201606_raw.csv', '201607_raw.csv', '201608_raw.csv', '201609_raw.csv', '201610_raw.csv', '201611_raw.csv', '201612_raw.csv', '201701_raw.csv', '201702_raw.csv', '201703_raw.csv', '201704_raw.csv', '201705_raw.csv', '201706_raw.csv', '201707_raw.csv', '201708_raw.csv', '201709_raw.csv', '201710_raw.csv', '201711_raw.csv', '201712_raw.csv', '201801_raw.csv', '201802_raw.csv', '201803_raw.csv', '201804_raw.csv', '201805_raw.csv', '201806_raw.csv', '201807_raw.csv', '201808_raw.csv', '201809_raw.csv', '201810_raw.csv', '201811_raw.csv', '201812_raw.csv', '201901_raw.csv', '201902_raw.csv', '201903_raw.csv', '201904_raw.csv', '201905_raw.csv', '201906_raw.csv', '201907_raw.csv', '201908_raw.csv', '201909_raw.csv', '201910_raw.csv', '201911_raw.csv', '201912_raw.csv', '202001_raw.csv', '202002_raw.csv', '202003_raw.csv', '202004_raw.csv', '202005_raw.csv', '202006_raw.csv', '202007_raw.csv', '202008_raw.csv', '202009_raw.csv', '202010_raw.csv', '202011_raw.csv', '202012_raw.csv', '202101_raw.csv', '202102_raw.csv', '202103_raw.csv', '202104_raw.csv', '202105_raw.csv', '202106_raw.csv', '202107_raw.csv', '202108_raw.csv', '202109_raw.csv', '202110_raw.csv', '202111_raw.csv', '202112_raw.csv', '202201_raw.csv', '202202_raw.csv', '202203_raw.csv', '202204_raw.csv', '202205_raw.csv', '202206_raw.csv', '202207_raw.csv', '202208_raw.csv', '202209_raw.csv', '202210_raw.csv', '202211_raw.csv', '202212_raw.csv', 'dm2016-2022_RAW.csv', 'OECD_국가의_주요지표_20230329151022.csv', 'pt', '주택건설 착공실적.csv', '주택건설_착공실적_월계__20230320165447.csv', '한국산업은행_금리 현황_20220701.csv']\n"
     ]
    }
   ],
   "source": [
    "months = os.listdir('./raw_data_month')\n",
    "years = os.listdir('./raw_data_year')\n",
    "print(months)"
   ]
  },
  {
   "cell_type": "code",
   "execution_count": 7,
   "metadata": {},
   "outputs": [
    {
     "name": "stdout",
     "output_type": "stream",
     "text": [
      "True\n",
      "201601_raw.csv\n",
      "201602_raw.csv\n",
      "201603_raw.csv\n",
      "201604_raw.csv\n",
      "201605_raw.csv\n",
      "201606_raw.csv\n",
      "201607_raw.csv\n",
      "201608_raw.csv\n",
      "201609_raw.csv\n",
      "201610_raw.csv\n",
      "201611_raw.csv\n",
      "201612_raw.csv\n",
      "201701_raw.csv\n",
      "201702_raw.csv\n",
      "201703_raw.csv\n",
      "201704_raw.csv\n",
      "201705_raw.csv\n",
      "201706_raw.csv\n",
      "201707_raw.csv\n",
      "201708_raw.csv\n",
      "201709_raw.csv\n",
      "201710_raw.csv\n",
      "201711_raw.csv\n",
      "201712_raw.csv\n",
      "201801_raw.csv\n",
      "201802_raw.csv\n",
      "201803_raw.csv\n",
      "201804_raw.csv\n",
      "201805_raw.csv\n",
      "201806_raw.csv\n",
      "201807_raw.csv\n",
      "201808_raw.csv\n",
      "201809_raw.csv\n",
      "201810_raw.csv\n",
      "201811_raw.csv\n",
      "201812_raw.csv\n",
      "201901_raw.csv\n",
      "201902_raw.csv\n",
      "201903_raw.csv\n",
      "201904_raw.csv\n",
      "201905_raw.csv\n",
      "201906_raw.csv\n",
      "201907_raw.csv\n",
      "201908_raw.csv\n",
      "201909_raw.csv\n",
      "201910_raw.csv\n",
      "201911_raw.csv\n",
      "201912_raw.csv\n",
      "202001_raw.csv\n",
      "202002_raw.csv\n",
      "202003_raw.csv\n",
      "202004_raw.csv\n",
      "202005_raw.csv\n",
      "202006_raw.csv\n",
      "202007_raw.csv\n",
      "202008_raw.csv\n",
      "202009_raw.csv\n",
      "202010_raw.csv\n",
      "202011_raw.csv\n",
      "202012_raw.csv\n",
      "202101_raw.csv\n",
      "202102_raw.csv\n",
      "202103_raw.csv\n",
      "202104_raw.csv\n",
      "202105_raw.csv\n",
      "202106_raw.csv\n",
      "202107_raw.csv\n",
      "202108_raw.csv\n",
      "202109_raw.csv\n",
      "202110_raw.csv\n",
      "202111_raw.csv\n",
      "202112_raw.csv\n",
      "202201_raw.csv\n",
      "202202_raw.csv\n",
      "202203_raw.csv\n",
      "202204_raw.csv\n",
      "202205_raw.csv\n",
      "202206_raw.csv\n",
      "202207_raw.csv\n",
      "202208_raw.csv\n",
      "202209_raw.csv\n",
      "202210_raw.csv\n",
      "202211_raw.csv\n",
      "202212_raw.csv\n"
     ]
    }
   ],
   "source": [
    "print('_raw' in months[0])\n",
    "for month in range(len(months)):\n",
    "    if '_raw' in months[month]:\n",
    "        print(months[month])\n",
    "        df = pd.read_csv('./raw_data_month/' + months[month], encoding='ms949')\n",
    "        df['건물명코드'] = df['건물명코드'].astype('str')\n",
    "        building_code = []\n",
    "        for i in range(len(df)):\n",
    "            building_code.append(df['건물명코드'][i][:5] + '_' + df['건물명코드'][i][5:10] + '_' + df['건물명코드'][i][10:14] + '_' + df['건물명코드'][i][14:])\n",
    "        df['building_code'] = building_code\n",
    "        df.to_csv('./raw_data_month/' + months[month], encoding='ms949')"
   ]
  },
  {
   "cell_type": "code",
   "execution_count": 6,
   "metadata": {},
   "outputs": [
    {
     "name": "stdout",
     "output_type": "stream",
     "text": [
      "2016_raw.csv\n",
      "2017_raw.csv\n",
      "2018_raw.csv\n",
      "2019_raw.csv\n",
      "2020_raw.csv\n"
     ]
    },
    {
     "name": "stderr",
     "output_type": "stream",
     "text": [
      "C:\\Users\\User\\AppData\\Local\\Temp\\ipykernel_20868\\626522322.py:4: DtypeWarning: Columns (11) have mixed types. Specify dtype option on import or set low_memory=False.\n",
      "  df = pd.read_csv('./raw_data_year/' + years[year], encoding='ms949')\n"
     ]
    },
    {
     "name": "stdout",
     "output_type": "stream",
     "text": [
      "2021_raw.csv\n",
      "2022_raw.csv\n"
     ]
    }
   ],
   "source": [
    "for year in range(len(years)):\n",
    "    if '_raw' in years[year]:\n",
    "        print(years[year])\n",
    "        df = pd.read_csv('./raw_data_year/' + years[year], encoding='ms949')\n",
    "        df['건물명코드'] = df['건물명코드'].astype('str')\n",
    "        building_code = []\n",
    "        for i in range(len(df)):\n",
    "            building_code.append(df['건물명코드'][i][:5] + '_' + df['건물명코드'][i][5:10] + '_' + df['건물명코드'][i][10:14] + '_' + df['건물명코드'][i][14:])\n",
    "        df['building_code'] = building_code\n",
    "        df.to_csv('./raw_data_year/' + years[year], encoding='ms949')"
   ]
  },
  {
   "cell_type": "code",
   "execution_count": 13,
   "metadata": {},
   "outputs": [],
   "source": [
    "df = pd.read_csv('dm2016-2022.csv')\n",
    "df_ = pd.read_csv('dmean_total.csv')"
   ]
  },
  {
   "cell_type": "code",
   "execution_count": 14,
   "metadata": {},
   "outputs": [
    {
     "name": "stdout",
     "output_type": "stream",
     "text": [
      "8903\n",
      "8903\n"
     ]
    }
   ],
   "source": [
    "print(len(df))\n",
    "print(len(df_))"
   ]
  },
  {
   "cell_type": "code",
   "execution_count": 8,
   "metadata": {},
   "outputs": [
    {
     "name": "stdout",
     "output_type": "stream",
     "text": [
      "328\n"
     ]
    }
   ],
   "source": [
    "a = (len(set(df['building_code'])))\n",
    "b = (len(set(df_['building_code'])))\n",
    "print(b-a)"
   ]
  },
  {
   "cell_type": "code",
   "execution_count": 17,
   "metadata": {},
   "outputs": [],
   "source": [
    "df = df.join(df_.set_index('building_code'), on='building_code')"
   ]
  },
  {
   "cell_type": "code",
   "execution_count": 18,
   "metadata": {},
   "outputs": [],
   "source": [
    "df.to_csv('dm2016-2022.csv')\n",
    "    "
   ]
  },
  {
   "cell_type": "code",
   "execution_count": null,
   "metadata": {},
   "outputs": [],
   "source": []
  }
 ],
 "metadata": {
  "kernelspec": {
   "display_name": "env",
   "language": "python",
   "name": "python3"
  },
  "language_info": {
   "codemirror_mode": {
    "name": "ipython",
    "version": 3
   },
   "file_extension": ".py",
   "mimetype": "text/x-python",
   "name": "python",
   "nbconvert_exporter": "python",
   "pygments_lexer": "ipython3",
   "version": "3.10.8"
  },
  "orig_nbformat": 4
 },
 "nbformat": 4,
 "nbformat_minor": 2
}
